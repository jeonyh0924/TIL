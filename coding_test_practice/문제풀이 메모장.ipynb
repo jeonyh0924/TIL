{
 "cells": [
  {
   "cell_type": "code",
   "execution_count": 169,
   "metadata": {},
   "outputs": [
    {
     "name": "stdout",
     "output_type": "stream",
     "text": [
      "3\n",
      "21 junkyu\n",
      "21 dohyun\n",
      "20 sunyoung\n"
     ]
    }
   ],
   "source": [
    "lst = []\n",
    "for i in range(int(input())):\n",
    "    age, name = input().split(' ')\n",
    "    lst.append([int(age), name, i])\n",
    "\n",
    "\n",
    "\n",
    "for i in sorted(lst, key = lambda x:(x[0], x[2])):\n",
    "    print(i[0], i[1])"
   ]
  },
  {
   "cell_type": "code",
   "execution_count": null,
   "metadata": {},
   "outputs": [],
   "source": []
  }
 ],
 "metadata": {
  "kernelspec": {
   "display_name": "Python 3",
   "language": "python",
   "name": "python3"
  },
  "language_info": {
   "codemirror_mode": {
    "name": "ipython",
    "version": 3
   },
   "file_extension": ".py",
   "mimetype": "text/x-python",
   "name": "python",
   "nbconvert_exporter": "python",
   "pygments_lexer": "ipython3",
   "version": "3.8.2"
  }
 },
 "nbformat": 4,
 "nbformat_minor": 4
}
