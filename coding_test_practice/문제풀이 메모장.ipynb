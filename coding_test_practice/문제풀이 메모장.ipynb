{
 "cells": [
  {
   "cell_type": "code",
   "execution_count": 197,
   "metadata": {},
   "outputs": [],
   "source": [
    "graph = {\n",
    "        'A': ['B', 'C'],\n",
    "        'B': ['A', 'D'],\n",
    "        'C': ['A', 'G', 'H', 'I'],\n",
    "        'D': ['B', 'E', 'F'],\n",
    "        'E': ['D'],\n",
    "        'F': ['D'],\n",
    "        'G': ['C'],\n",
    "        'H': ['C'],\n",
    "        'I': ['C', 'J'],\n",
    "        'J': ['I']\n",
    "    }\n",
    "\n",
    "def dfs(graph, start):\n",
    "    visited = {}\n",
    "    for k in graph.keys():\n",
    "        visited[k] = False\n",
    "    visited[start] = True\n",
    "    need_visited = []\n",
    "    need_visited.extend(graph[start])\n",
    "    answer = []\n",
    "    answer.append(start)\n",
    "    \n",
    "    while need_visited:\n",
    "        node = need_visited.pop()\n",
    "        if visited[node] == False:\n",
    "            visited[node] = True\n",
    "            need_visited.extend(graph[node])\n",
    "            answer.append(node)\n",
    "    return ' '.join(answer)"
   ]
  },
  {
   "cell_type": "code",
   "execution_count": 198,
   "metadata": {},
   "outputs": [
    {
     "name": "stdout",
     "output_type": "stream",
     "text": [
      "A C I J H G B D F E\n"
     ]
    }
   ],
   "source": [
    "print(dfs(graph, 'A'))"
   ]
  },
  {
   "cell_type": "code",
   "execution_count": 199,
   "metadata": {},
   "outputs": [
    {
     "ename": "SyntaxError",
     "evalue": "invalid syntax (<ipython-input-199-03e414cef37d>, line 1)",
     "output_type": "error",
     "traceback": [
      "\u001b[0;36m  File \u001b[0;32m\"<ipython-input-199-03e414cef37d>\"\u001b[0;36m, line \u001b[0;32m1\u001b[0m\n\u001b[0;31m    A C I J H G B D F E\u001b[0m\n\u001b[0m      ^\u001b[0m\n\u001b[0;31mSyntaxError\u001b[0m\u001b[0;31m:\u001b[0m invalid syntax\n"
     ]
    }
   ],
   "source": [
    "A C I J H G B D F E"
   ]
  },
  {
   "cell_type": "code",
   "execution_count": null,
   "metadata": {},
   "outputs": [],
   "source": []
  }
 ],
 "metadata": {
  "kernelspec": {
   "display_name": "Python 3",
   "language": "python",
   "name": "python3"
  },
  "language_info": {
   "codemirror_mode": {
    "name": "ipython",
    "version": 3
   },
   "file_extension": ".py",
   "mimetype": "text/x-python",
   "name": "python",
   "nbconvert_exporter": "python",
   "pygments_lexer": "ipython3",
   "version": "3.8.2"
  }
 },
 "nbformat": 4,
 "nbformat_minor": 4
}
