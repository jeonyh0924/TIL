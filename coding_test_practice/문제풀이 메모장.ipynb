{
 "cells": [
  {
   "cell_type": "code",
   "execution_count": 174,
   "metadata": {},
   "outputs": [
    {
     "name": "stdout",
     "output_type": "stream",
     "text": [
      "0001100\n",
      "1\n"
     ]
    }
   ],
   "source": [
    "def solution(s):\n",
    "    zero_count = 0 # 전부 0으로\n",
    "    one_count = 0 # 전부 1로\n",
    "    if s[0] == 1:\n",
    "        # 시작이 1이면 0으로 바꾸어야 해서 +=1\n",
    "        zero_count+=1\n",
    "    else:\n",
    "        # 시작이 0이면 1로 바꾸어야 해서 +=1\n",
    "        one_count +=1\n",
    "    for index, w in enumerate(s[1:]):\n",
    "        if s[index] != s[index-1]:\n",
    "            if w != '0':\n",
    "                # 0이랑 같지 않다면 전부 0으로 바꿀 때 0으로 바꾸어야 해서\n",
    "                zero_count+=1\n",
    "            elif w != '1':\n",
    "                # 1이랑 같지 않다면 전부 1로 바꾸는 상황에서 1로 바꾸어야 하므로\n",
    "                one_count+=1\n",
    "            \n",
    "    \n",
    "    return min(zero_count, one_count)\n",
    "\n",
    "print(solution(input()))"
   ]
  },
  {
   "cell_type": "code",
   "execution_count": null,
   "metadata": {},
   "outputs": [],
   "source": []
  }
 ],
 "metadata": {
  "kernelspec": {
   "display_name": "Python 3",
   "language": "python",
   "name": "python3"
  },
  "language_info": {
   "codemirror_mode": {
    "name": "ipython",
    "version": 3
   },
   "file_extension": ".py",
   "mimetype": "text/x-python",
   "name": "python",
   "nbconvert_exporter": "python",
   "pygments_lexer": "ipython3",
   "version": "3.8.2"
  }
 },
 "nbformat": 4,
 "nbformat_minor": 4
}
