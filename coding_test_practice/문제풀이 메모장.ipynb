{
 "cells": [
  {
   "cell_type": "code",
   "execution_count": 109,
   "metadata": {},
   "outputs": [
    {
     "name": "stdout",
     "output_type": "stream",
     "text": [
      "sorted_lst [[3, 5], [5, 7], [12, 14], [1, 4], [8, 11], [5, 9], [6, 10], [8, 12], [3, 8], [0, 6], [2, 13]]\n",
      "time [3, 4]\n",
      "time [4, 5]\n",
      "cnt 1\n",
      "time [5, 6]\n",
      "time [6, 7]\n",
      "cnt 2\n",
      "time [12, 13]\n",
      "time [13, 14]\n",
      "cnt 3\n",
      "time [1, 2]\n",
      "time [2, 3]\n",
      "cnt 4\n",
      "time [8, 9]\n",
      "time [9, 10]\n",
      "time [10, 11]\n",
      "cnt 5\n",
      "time [7, 8]\n",
      "cnt 6\n",
      "cnt 7\n",
      "time [11, 12]\n",
      "cnt 8\n",
      "cnt 9\n",
      "time [0, 1]\n",
      "cnt 10\n",
      "cnt 11\n",
      "11\n"
     ]
    }
   ],
   "source": [
    "def solution(lst):\n",
    "    cnt = 0\n",
    "    times = []\n",
    "    for i in range(24):\n",
    "        times.append([i, i+1])\n",
    "\n",
    "    # 시간의 차이 기준으로 정렬\n",
    "    sorted_lst = sorted(lst, key=lambda x:x[1]-x[0])\n",
    "    \n",
    "    for time in sorted_lst:\n",
    "        if time[0]==time[1]:\n",
    "            cnt+=1\n",
    "            continue\n",
    "        for t in range(time[0], time[1]+1):\n",
    "            if [t, t+1] not in times:\n",
    "                continue\n",
    "    \n",
    "    return cnt\n",
    "lst= [[1, 4],\n",
    " [3, 5],\n",
    " [0, 6],\n",
    " [5, 7],\n",
    " [3, 8],\n",
    " [5, 9],\n",
    " [6, 10],\n",
    " [8, 11],\n",
    " [8, 12],\n",
    " [2, 13],\n",
    " [12, 14]]\n",
    "\n",
    "# for _ in range(int(input())):\n",
    "    # lst.append(list(map(int, input().split(' '))))\n",
    "print(solution(lst))"
   ]
  },
  {
   "cell_type": "code",
   "execution_count": 123,
   "metadata": {},
   "outputs": [],
   "source": [
    "times = [[i, i+1] for i in range(24)]"
   ]
  },
  {
   "cell_type": "code",
   "execution_count": 124,
   "metadata": {},
   "outputs": [
    {
     "data": {
      "text/plain": [
       "[[0, 1],\n",
       " [1, 2],\n",
       " [2, 3],\n",
       " [3, 4],\n",
       " [4, 5],\n",
       " [5, 6],\n",
       " [6, 7],\n",
       " [7, 8],\n",
       " [8, 9],\n",
       " [9, 10],\n",
       " [10, 11],\n",
       " [11, 12],\n",
       " [12, 13],\n",
       " [13, 14],\n",
       " [14, 15],\n",
       " [15, 16],\n",
       " [16, 17],\n",
       " [17, 18],\n",
       " [18, 19],\n",
       " [19, 20],\n",
       " [20, 21],\n",
       " [21, 22],\n",
       " [22, 23],\n",
       " [23, 24]]"
      ]
     },
     "execution_count": 124,
     "metadata": {},
     "output_type": "execute_result"
    }
   ],
   "source": [
    "times"
   ]
  },
  {
   "cell_type": "code",
   "execution_count": 120,
   "metadata": {},
   "outputs": [],
   "source": [
    "test = [1, 4]"
   ]
  },
  {
   "cell_type": "code",
   "execution_count": 126,
   "metadata": {},
   "outputs": [
    {
     "name": "stdout",
     "output_type": "stream",
     "text": [
      "1 2\n",
      "2 3\n",
      "3 4\n"
     ]
    }
   ],
   "source": [
    "for i in range(test[0], test[1]+1):\n",
    "    if i == test[1]:\n",
    "        break\n",
    "    print(i, i+1)\n",
    "    times.remove([i, i+1])"
   ]
  },
  {
   "cell_type": "code",
   "execution_count": 128,
   "metadata": {},
   "outputs": [
    {
     "name": "stdout",
     "output_type": "stream",
     "text": [
      "11\n",
      "1 4\n",
      "3 5\n",
      "0 6\n",
      "5 7\n",
      "3 8\n",
      "5 9\n",
      "6 10\n",
      "8 11\n",
      "8 12\n",
      "2 13\n",
      "12 14\n",
      "4\n"
     ]
    }
   ],
   "source": [
    "lst = [[8, 8], [5, 8], [3, 4], [2, 5], [2, 7], [8, 8], [1, 10], [3, 3], [10, 10]]\n",
    "\n",
    "\n",
    "def solution(lst):\n",
    "    cnt = 1\n",
    "    \n",
    "    lst.sort(key = lambda x:(x[1], x[0]))\n",
    "    end_time = lst[0][1]\n",
    "    \n",
    "    for i in range(1, len(lst)):\n",
    "        if lst[i][0] >= end_time:\n",
    "            cnt+=1\n",
    "            end_time = lst[i][1]\n",
    "\n",
    "    return cnt\n",
    "lst = []\n",
    "limit = int(input())\n",
    "for _ in range(limit):\n",
    "    lst.append(list(map(int, input().split(' '))))\n",
    "print(solution(lst))"
   ]
  },
  {
   "cell_type": "code",
   "execution_count": null,
   "metadata": {},
   "outputs": [],
   "source": []
  }
 ],
 "metadata": {
  "kernelspec": {
   "display_name": "Python 3",
   "language": "python",
   "name": "python3"
  },
  "language_info": {
   "codemirror_mode": {
    "name": "ipython",
    "version": 3
   },
   "file_extension": ".py",
   "mimetype": "text/x-python",
   "name": "python",
   "nbconvert_exporter": "python",
   "pygments_lexer": "ipython3",
   "version": "3.8.2"
  }
 },
 "nbformat": 4,
 "nbformat_minor": 4
}
