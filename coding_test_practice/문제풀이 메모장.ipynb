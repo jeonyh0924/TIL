{
 "cells": [
  {
   "cell_type": "code",
   "execution_count": 212,
   "metadata": {
    "scrolled": true
   },
   "outputs": [
    {
     "name": "stdout",
     "output_type": "stream",
     "text": [
      "1 10\n",
      "1\n",
      "10\n"
     ]
    }
   ],
   "source": [
    "def coin_0(wallet, value):\n",
    "    cnt = 0\n",
    "    for index, data in enumerate(wallet):\n",
    "        if data <=value:\n",
    "            div_value = value// data\n",
    "            value -= data * div_value\n",
    "            cnt += div_value\n",
    "    return cnt\n",
    "\n",
    "indexing, value = map(int, input().split(' '))\n",
    "wallet = []\n",
    "for _ in range(indexing):\n",
    "    wallet.append(int(input()))\n",
    "wallet = sorted(wallet, reverse = True)\n",
    "\n",
    "print(coin_0(wallet, value))"
   ]
  },
  {
   "cell_type": "code",
   "execution_count": 210,
   "metadata": {},
   "outputs": [
    {
     "data": {
      "text/plain": [
       "8000"
      ]
     },
     "execution_count": 210,
     "metadata": {},
     "output_type": "execute_result"
    }
   ],
   "source": [
    "40000//5"
   ]
  },
  {
   "cell_type": "code",
   "execution_count": null,
   "metadata": {},
   "outputs": [],
   "source": []
  }
 ],
 "metadata": {
  "kernelspec": {
   "display_name": "Python 3",
   "language": "python",
   "name": "python3"
  },
  "language_info": {
   "codemirror_mode": {
    "name": "ipython",
    "version": 3
   },
   "file_extension": ".py",
   "mimetype": "text/x-python",
   "name": "python",
   "nbconvert_exporter": "python",
   "pygments_lexer": "ipython3",
   "version": "3.8.2"
  }
 },
 "nbformat": 4,
 "nbformat_minor": 4
}
