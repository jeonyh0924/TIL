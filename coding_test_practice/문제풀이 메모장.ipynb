{
 "cells": [
  {
   "cell_type": "code",
   "execution_count": 6,
   "metadata": {},
   "outputs": [],
   "source": [
    "length = 6"
   ]
  },
  {
   "cell_type": "code",
   "execution_count": 7,
   "metadata": {},
   "outputs": [
    {
     "data": {
      "text/plain": [
       "[1, 2, 3, 4, 5, 6]"
      ]
     },
     "execution_count": 7,
     "metadata": {},
     "output_type": "execute_result"
    }
   ],
   "source": [
    "[i for i in range(1, length+1)]"
   ]
  },
  {
   "cell_type": "code",
   "execution_count": 13,
   "metadata": {},
   "outputs": [
    {
     "name": "stdout",
     "output_type": "stream",
     "text": [
      "7 3\n"
     ]
    }
   ],
   "source": [
    "length, remove_point = map(int, input().split())\n",
    "\n",
    "lst = [i for i in range(1, length+1)]\n",
    "answer = []\n",
    "index = 1\n",
    "while lst:\n",
    "    if index == remove_point:\n",
    "        answer.append(lst.pop(0))\n",
    "        index = 1\n",
    "        continue\n",
    "    else:\n",
    "        index+=1\n",
    "        lst.append(lst.pop(0))"
   ]
  },
  {
   "cell_type": "code",
   "execution_count": 22,
   "metadata": {},
   "outputs": [],
   "source": [
    "import collections"
   ]
  },
  {
   "cell_type": "code",
   "execution_count": 23,
   "metadata": {},
   "outputs": [],
   "source": [
    "deq = collections.deque([])"
   ]
  },
  {
   "cell_type": "code",
   "execution_count": 24,
   "metadata": {},
   "outputs": [
    {
     "data": {
      "text/plain": [
       "deque([])"
      ]
     },
     "execution_count": 24,
     "metadata": {},
     "output_type": "execute_result"
    }
   ],
   "source": [
    "deq"
   ]
  },
  {
   "cell_type": "code",
   "execution_count": 25,
   "metadata": {},
   "outputs": [],
   "source": [
    "data = \"push_back 1\""
   ]
  },
  {
   "cell_type": "code",
   "execution_count": 26,
   "metadata": {},
   "outputs": [
    {
     "data": {
      "text/plain": [
       "['push_back', '1']"
      ]
     },
     "execution_count": 26,
     "metadata": {},
     "output_type": "execute_result"
    }
   ],
   "source": [
    "data.split(' ')"
   ]
  },
  {
   "cell_type": "code",
   "execution_count": 27,
   "metadata": {},
   "outputs": [],
   "source": [
    "data2 = 'front'"
   ]
  },
  {
   "cell_type": "code",
   "execution_count": 28,
   "metadata": {},
   "outputs": [
    {
     "data": {
      "text/plain": [
       "['front']"
      ]
     },
     "execution_count": 28,
     "metadata": {},
     "output_type": "execute_result"
    }
   ],
   "source": [
    "data2.split(' ')"
   ]
  },
  {
   "cell_type": "code",
   "execution_count": 29,
   "metadata": {},
   "outputs": [
    {
     "name": "stdout",
     "output_type": "stream",
     "text": [
      "15\n",
      "push_back 1\n",
      "1\n",
      "push_front 2\n",
      "2\n",
      "front\n",
      "2\n",
      "back\n",
      "1\n",
      "size\n",
      "2\n",
      "empty\n",
      "0\n",
      "pop_front\n",
      "2\n",
      "1\n",
      "pop_back\n",
      "1\n",
      "-1\n",
      "size\n",
      "0\n",
      "empty\n",
      "1\n",
      "pop_back\n",
      "-1\n",
      "-1\n",
      "push_front 3\n",
      "3\n",
      "empty\n",
      "0\n",
      "front\n",
      "3\n",
      "\n"
     ]
    }
   ],
   "source": [
    "import collections\n",
    "deq = collections.deque([])\n",
    "for _ in range(int(input())):\n",
    "    command = input().split(' ')\n",
    "    if len(command) == 2:\n",
    "        if 'push_front' in command[0]:\n",
    "            deq.appendleft(command[1])\n",
    "        if 'push_back' in command[0]:\n",
    "            deq.append(command[1])\n",
    "    if 'pop_front' in command[0]:\n",
    "        if deq:\n",
    "            print(deq.popleft())\n",
    "        else:\n",
    "            print(-1)\n",
    "    if 'pop_back' in command[0]:\n",
    "        if deq:\n",
    "            print(deq.pop())\n",
    "        else:\n",
    "            print(-1)\n",
    "    if 'size' in command[0]:\n",
    "        print(len(deq))\n",
    "    if 'empty' in command[0]:\n",
    "        if deq:\n",
    "            print(0)\n",
    "        else:\n",
    "            print(1)\n",
    "    if 'front' in command[0]:\n",
    "        if deq:\n",
    "            print(deq[0])\n",
    "        else:\n",
    "            print(-1)\n",
    "    if 'back' in command[0]:\n",
    "        if deq:\n",
    "            print(deq[-1])\n",
    "        else:\n",
    "            print(-1)\n",
    "           "
   ]
  },
  {
   "cell_type": "code",
   "execution_count": 42,
   "metadata": {},
   "outputs": [
    {
     "name": "stdout",
     "output_type": "stream",
     "text": [
      "[1, 1, 1]\n"
     ]
    }
   ],
   "source": [
    "def solution(progresses, speeds):\n",
    "    import copy\n",
    "    answer = []\n",
    "    done = [i for i in range(len(progresses))]\n",
    "    success = []\n",
    "    # 배포가 가능한 기능 개수\n",
    "    deploy_count = 0\n",
    "    while progresses:\n",
    "        for index, progress in enumerate(progresses):\n",
    "            data = progress + speeds[index]\n",
    "            progresses[index] = data\n",
    "            if data >=100:\n",
    "                answer.append(done.pop(index))\n",
    "                speeds.pop(index)\n",
    "                progresses.pop(index)\n",
    "        \n",
    "        # 완료한 작업이 진행중인 작업보다 높지 않다면 기능을 배포한다.\n",
    "        if (answer and done):\n",
    "            if min(answer) < min(done):\n",
    "                for index, value in enumerate(answer):\n",
    "                    if value < min(done):\n",
    "                        deploy_count+= 1\n",
    "                        answer.pop(index)\n",
    "                if deploy_count!=0:\n",
    "                    success.append(deploy_count)\n",
    "                    deploy_count = 0\n",
    "\n",
    "        if not progresses:\n",
    "            success.append(len(answer))\n",
    "            \n",
    "    \n",
    "    return success\n",
    "progresses = [93, 30, 55]\n",
    "# [95, 90, 99, 99, 80, 99]\n",
    "\n",
    "speeds= [1, 30, 5]\n",
    "# [1, 1, 1, 1, 1, 1]\n",
    "\n",
    "print(solution(progresses, speeds))"
   ]
  },
  {
   "cell_type": "code",
   "execution_count": null,
   "metadata": {},
   "outputs": [],
   "source": []
  },
  {
   "cell_type": "code",
   "execution_count": null,
   "metadata": {},
   "outputs": [],
   "source": []
  }
 ],
 "metadata": {
  "kernelspec": {
   "display_name": "Python 3",
   "language": "python",
   "name": "python3"
  },
  "language_info": {
   "codemirror_mode": {
    "name": "ipython",
    "version": 3
   },
   "file_extension": ".py",
   "mimetype": "text/x-python",
   "name": "python",
   "nbconvert_exporter": "python",
   "pygments_lexer": "ipython3",
   "version": "3.8.2"
  }
 },
 "nbformat": 4,
 "nbformat_minor": 4
}
