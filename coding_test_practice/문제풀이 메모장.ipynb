{
 "cells": [
  {
   "cell_type": "code",
   "execution_count": 136,
   "metadata": {},
   "outputs": [
    {
     "name": "stdout",
     "output_type": "stream",
     "text": [
      "10\n",
      "6 3 2 10 10 10 -10 -10 7 3\n",
      "8\n",
      "10 9 -5 2 3 4 5 -10\n",
      "3 0 0 1 2 0 0 2\n"
     ]
    }
   ],
   "source": [
    "import collections\n",
    "dic = collections.defaultdict(int)\n",
    "n = int(input())\n",
    "\n",
    "card_lst = list(map(int, input().split()))\n",
    "\n",
    "m = int(input())\n",
    "\n",
    "find_card = list(map(int, input().split()))\n",
    "\n",
    "for i in card_lst:\n",
    "    dic[i] += 1\n",
    "\n",
    "\n",
    "answer = []\n",
    "\n",
    "for i in find_card:\n",
    "    if dic.get(i):\n",
    "        answer.append(dic.get(i))\n",
    "    elif not dic.get(i):\n",
    "        answer.append(0)\n",
    "\n",
    "print(' '.join(map(str, answer)))"
   ]
  },
  {
   "cell_type": "code",
   "execution_count": null,
   "metadata": {},
   "outputs": [],
   "source": []
  }
 ],
 "metadata": {
  "kernelspec": {
   "display_name": "Python 3",
   "language": "python",
   "name": "python3"
  },
  "language_info": {
   "codemirror_mode": {
    "name": "ipython",
    "version": 3
   },
   "file_extension": ".py",
   "mimetype": "text/x-python",
   "name": "python",
   "nbconvert_exporter": "python",
   "pygments_lexer": "ipython3",
   "version": "3.8.2"
  }
 },
 "nbformat": 4,
 "nbformat_minor": 4
}
