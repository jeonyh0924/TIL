{
 "cells": [
  {
   "cell_type": "markdown",
   "metadata": {},
   "source": [
    "- p1 = 3\n",
    "- p2 = 1\n",
    "- p3 = 4\n",
    "- p4 = 3\n",
    "- p5 = 2\n",
    "\n",
    "[1, 2, 3 ,4, 5] 순서로 줄을 선다면 \n",
    "- 1번 사람은 3분 (3)\n",
    "- 2번 사람은 4분 (3 +1)\n",
    "- 3번 사람은 8분 (3 +1+ 4)\n",
    "- 4번 사람은 11분 (3 +1 +4 + 3)\n",
    "- 5번 사람은 13분이 걸린다. (3 +1 +4 + 3+2)\n",
    "\n"
   ]
  },
  {
   "cell_type": "code",
   "execution_count": 304,
   "metadata": {},
   "outputs": [
    {
     "name": "stdout",
     "output_type": "stream",
     "text": [
      "5\n",
      "3 1 4 3 2\n"
     ]
    }
   ],
   "source": [
    "n = int(input())\n",
    "p_lst = list(map(int, input().split()))"
   ]
  },
  {
   "cell_type": "code",
   "execution_count": 315,
   "metadata": {},
   "outputs": [],
   "source": [
    "p_lst.sort(key= lambda x:x)"
   ]
  },
  {
   "cell_type": "code",
   "execution_count": 337,
   "metadata": {},
   "outputs": [],
   "source": [
    "a, b = p_lst[1], p_lst[0]"
   ]
  },
  {
   "cell_type": "code",
   "execution_count": 338,
   "metadata": {},
   "outputs": [
    {
     "data": {
      "text/plain": [
       "(2, 1)"
      ]
     },
     "execution_count": 338,
     "metadata": {},
     "output_type": "execute_result"
    }
   ],
   "source": [
    "a, b"
   ]
  },
  {
   "cell_type": "code",
   "execution_count": 335,
   "metadata": {},
   "outputs": [],
   "source": [
    "for i in range(len(p_lst)):\n",
    "    a, b = b, a+b"
   ]
  },
  {
   "cell_type": "code",
   "execution_count": 349,
   "metadata": {},
   "outputs": [
    {
     "name": "stdout",
     "output_type": "stream",
     "text": [
      "5\n",
      "3 1 4 3 2\n",
      "32\n"
     ]
    }
   ],
   "source": [
    "\n",
    "n = int(input())\n",
    "p_lst = list(map(int, input().split()))\n",
    "p_lst.sort(key = lambda x:x)\n",
    "sum_data = 0\n",
    "answer = 0\n",
    "for i in p_lst:\n",
    "    sum_data+=i\n",
    "    answer+=sum_data\n",
    "print(answer)"
   ]
  },
  {
   "cell_type": "code",
   "execution_count": 342,
   "metadata": {},
   "outputs": [
    {
     "data": {
      "text/plain": [
       "32"
      ]
     },
     "execution_count": 342,
     "metadata": {},
     "output_type": "execute_result"
    }
   ],
   "source": [
    "sum_data = "
   ]
  },
  {
   "cell_type": "code",
   "execution_count": null,
   "metadata": {},
   "outputs": [],
   "source": []
  }
 ],
 "metadata": {
  "kernelspec": {
   "display_name": "Python 3",
   "language": "python",
   "name": "python3"
  },
  "language_info": {
   "codemirror_mode": {
    "name": "ipython",
    "version": 3
   },
   "file_extension": ".py",
   "mimetype": "text/x-python",
   "name": "python",
   "nbconvert_exporter": "python",
   "pygments_lexer": "ipython3",
   "version": "3.8.2"
  }
 },
 "nbformat": 4,
 "nbformat_minor": 4
}
