{
 "cells": [
  {
   "cell_type": "code",
   "execution_count": 130,
   "metadata": {},
   "outputs": [
    {
     "ename": "SyntaxError",
     "evalue": "invalid syntax (<ipython-input-130-7f90813c248c>, line 1)",
     "output_type": "error",
     "traceback": [
      "\u001b[0;36m  File \u001b[0;32m\"<ipython-input-130-7f90813c248c>\"\u001b[0;36m, line \u001b[0;32m1\u001b[0m\n\u001b[0;31m    반례 5\u001b[0m\n\u001b[0m       ^\u001b[0m\n\u001b[0;31mSyntaxError\u001b[0m\u001b[0;31m:\u001b[0m invalid syntax\n"
     ]
    }
   ],
   "source": [
    "반례 5\n",
    "1\n",
    "2\n",
    "3\n",
    "4\n",
    "5\n"
   ]
  },
  {
   "cell_type": "code",
   "execution_count": 152,
   "metadata": {},
   "outputs": [
    {
     "name": "stdout",
     "output_type": "stream",
     "text": [
      "3\n",
      "3\n",
      "5\n",
      "13\n",
      "13\n"
     ]
    }
   ],
   "source": [
    "import sys\n",
    "\n",
    "def solution(lst):\n",
    "    lst.sort()\n",
    "    length = len(lst)\n",
    "    max_w = 0\n",
    "    for index, rope in enumerate(lst):\n",
    "        w = rope *(length-index)\n",
    "        lst[index] = w\n",
    "    lst = sorted(lst)\n",
    "    return lst[-1]\n",
    "\n",
    "limit = int(input())\n",
    "lst = [0] * limit\n",
    "for index in range(limit):\n",
    "    lst[index]= (int(input()))\n",
    "    \n",
    "print(solution(lst)) "
   ]
  },
  {
   "cell_type": "code",
   "execution_count": null,
   "metadata": {},
   "outputs": [],
   "source": []
  }
 ],
 "metadata": {
  "kernelspec": {
   "display_name": "Python 3",
   "language": "python",
   "name": "python3"
  },
  "language_info": {
   "codemirror_mode": {
    "name": "ipython",
    "version": 3
   },
   "file_extension": ".py",
   "mimetype": "text/x-python",
   "name": "python",
   "nbconvert_exporter": "python",
   "pygments_lexer": "ipython3",
   "version": "3.8.2"
  }
 },
 "nbformat": 4,
 "nbformat_minor": 4
}
