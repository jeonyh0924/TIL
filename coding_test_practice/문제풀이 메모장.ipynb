{
 "cells": [
  {
   "cell_type": "code",
   "execution_count": 6,
   "metadata": {},
   "outputs": [],
   "source": [
    "length = 6"
   ]
  },
  {
   "cell_type": "code",
   "execution_count": 7,
   "metadata": {},
   "outputs": [
    {
     "data": {
      "text/plain": [
       "[1, 2, 3, 4, 5, 6]"
      ]
     },
     "execution_count": 7,
     "metadata": {},
     "output_type": "execute_result"
    }
   ],
   "source": [
    "[i for i in range(1, length+1)]"
   ]
  },
  {
   "cell_type": "code",
   "execution_count": 13,
   "metadata": {},
   "outputs": [
    {
     "name": "stdout",
     "output_type": "stream",
     "text": [
      "7 3\n"
     ]
    }
   ],
   "source": [
    "length, remove_point = map(int, input().split())\n",
    "\n",
    "lst = [i for i in range(1, length+1)]\n",
    "answer = []\n",
    "index = 1\n",
    "while lst:\n",
    "    if index == remove_point:\n",
    "        answer.append(lst.pop(0))\n",
    "        index = 1\n",
    "        continue\n",
    "    else:\n",
    "        index+=1\n",
    "        lst.append(lst.pop(0))"
   ]
  },
  {
   "cell_type": "code",
   "execution_count": 22,
   "metadata": {},
   "outputs": [],
   "source": [
    "import collections"
   ]
  },
  {
   "cell_type": "code",
   "execution_count": 23,
   "metadata": {},
   "outputs": [],
   "source": [
    "deq = collections.deque([])"
   ]
  },
  {
   "cell_type": "code",
   "execution_count": 24,
   "metadata": {},
   "outputs": [
    {
     "data": {
      "text/plain": [
       "deque([])"
      ]
     },
     "execution_count": 24,
     "metadata": {},
     "output_type": "execute_result"
    }
   ],
   "source": [
    "deq"
   ]
  },
  {
   "cell_type": "code",
   "execution_count": 25,
   "metadata": {},
   "outputs": [],
   "source": [
    "data = \"push_back 1\""
   ]
  },
  {
   "cell_type": "code",
   "execution_count": 26,
   "metadata": {},
   "outputs": [
    {
     "data": {
      "text/plain": [
       "['push_back', '1']"
      ]
     },
     "execution_count": 26,
     "metadata": {},
     "output_type": "execute_result"
    }
   ],
   "source": [
    "data.split(' ')"
   ]
  },
  {
   "cell_type": "code",
   "execution_count": 27,
   "metadata": {},
   "outputs": [],
   "source": [
    "data2 = 'front'"
   ]
  },
  {
   "cell_type": "code",
   "execution_count": 28,
   "metadata": {},
   "outputs": [
    {
     "data": {
      "text/plain": [
       "['front']"
      ]
     },
     "execution_count": 28,
     "metadata": {},
     "output_type": "execute_result"
    }
   ],
   "source": [
    "data2.split(' ')"
   ]
  },
  {
   "cell_type": "code",
   "execution_count": 29,
   "metadata": {},
   "outputs": [
    {
     "name": "stdout",
     "output_type": "stream",
     "text": [
      "15\n",
      "push_back 1\n",
      "1\n",
      "push_front 2\n",
      "2\n",
      "front\n",
      "2\n",
      "back\n",
      "1\n",
      "size\n",
      "2\n",
      "empty\n",
      "0\n",
      "pop_front\n",
      "2\n",
      "1\n",
      "pop_back\n",
      "1\n",
      "-1\n",
      "size\n",
      "0\n",
      "empty\n",
      "1\n",
      "pop_back\n",
      "-1\n",
      "-1\n",
      "push_front 3\n",
      "3\n",
      "empty\n",
      "0\n",
      "front\n",
      "3\n",
      "\n"
     ]
    }
   ],
   "source": [
    "import collections\n",
    "deq = collections.deque([])\n",
    "for _ in range(int(input())):\n",
    "    command = input().split(' ')\n",
    "    if len(command) == 2:\n",
    "        if 'push_front' in command[0]:\n",
    "            deq.appendleft(command[1])\n",
    "        if 'push_back' in command[0]:\n",
    "            deq.append(command[1])\n",
    "    if 'pop_front' in command[0]:\n",
    "        if deq:\n",
    "            print(deq.popleft())\n",
    "        else:\n",
    "            print(-1)\n",
    "    if 'pop_back' in command[0]:\n",
    "        if deq:\n",
    "            print(deq.pop())\n",
    "        else:\n",
    "            print(-1)\n",
    "    if 'size' in command[0]:\n",
    "        print(len(deq))\n",
    "    if 'empty' in command[0]:\n",
    "        if deq:\n",
    "            print(0)\n",
    "        else:\n",
    "            print(1)\n",
    "    if 'front' in command[0]:\n",
    "        if deq:\n",
    "            print(deq[0])\n",
    "        else:\n",
    "            print(-1)\n",
    "    if 'back' in command[0]:\n",
    "        if deq:\n",
    "            print(deq[-1])\n",
    "        else:\n",
    "            print(-1)\n",
    "           "
   ]
  },
  {
   "cell_type": "code",
   "execution_count": null,
   "metadata": {},
   "outputs": [],
   "source": []
  }
 ],
 "metadata": {
  "kernelspec": {
   "display_name": "Python 3",
   "language": "python",
   "name": "python3"
  },
  "language_info": {
   "codemirror_mode": {
    "name": "ipython",
    "version": 3
   },
   "file_extension": ".py",
   "mimetype": "text/x-python",
   "name": "python",
   "nbconvert_exporter": "python",
   "pygments_lexer": "ipython3",
   "version": "3.8.2"
  }
 },
 "nbformat": 4,
 "nbformat_minor": 4
}
