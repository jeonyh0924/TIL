{
 "cells": [
  {
   "cell_type": "code",
   "execution_count": 569,
   "metadata": {},
   "outputs": [
    {
     "name": "stdout",
     "output_type": "stream",
     "text": [
      "11\n",
      "2\n",
      "-4\n",
      "-4\n",
      "1\n",
      "-3\n",
      "-1\n",
      "-3\n",
      "-1\n",
      "1\n",
      "-4\n",
      "2\n",
      "-2\n",
      "-1\n",
      "-4\n",
      "6\n"
     ]
    }
   ],
   "source": [
    "from collections import defaultdict\n",
    "import statistics\n",
    "\n",
    "dic = defaultdict(int)\n",
    "lst = []\n",
    "for _ in range(int(input())):\n",
    "    value = int(input())\n",
    "    lst.append(value)\n",
    "    dic[value] +=1\n",
    "\n",
    "    \n",
    "#  1. 산술 평균 -> 소수점 이하 앞 자리 반올림 값\n",
    "sum_var = 0\n",
    "div = 0\n",
    "for k, v in dic.items():\n",
    "    div += v\n",
    "    sum_var += (k*v)\n",
    "print(sum_var//div)\n",
    "\n",
    "# 2. 중앙 값\n",
    "print(statistics.median(lst))\n",
    "\n",
    "# 3. 최빈값 여러 개 있을 때에는 최빈값 중 두 번째로 작은 값\n",
    "sorted_dic=  sorted(dic.items(), key= lambda x:(x[1], -x[0]), reverse=True)\n",
    "\n",
    "if len(sorted_dic) ==1:\n",
    "    print(sorted_dic[0][0])\n",
    "else:\n",
    "    if sorted_dic[0][1] == sorted_dic[1][1]:\n",
    "        print(sorted_dic[1][0])\n",
    "    else:\n",
    "        print(sorted_dic[0][0])\n",
    "\n",
    "page_4 = 0\n",
    "sorted_dic = sorted(dic, key=lambda x:x)\n",
    "for i in range(sorted_dic[0], sorted_dic[-1]):\n",
    "    page_4 +=1\n",
    "\n",
    "print(page_4)"
   ]
  },
  {
   "cell_type": "code",
   "execution_count": 566,
   "metadata": {},
   "outputs": [
    {
     "name": "stdout",
     "output_type": "stream",
     "text": [
      "2\n",
      "-4\n",
      "-4\n",
      "1\n",
      "-3\n",
      "-1\n",
      "-3\n",
      "-1\n",
      "1\n",
      "-4\n",
      "2\n"
     ]
    }
   ],
   "source": [
    "test = []\n",
    "for i in range(11):\n",
    "    test.append(int(input()))"
   ]
  },
  {
   "cell_type": "code",
   "execution_count": 568,
   "metadata": {},
   "outputs": [
    {
     "data": {
      "text/plain": [
       "-2"
      ]
     },
     "execution_count": 568,
     "metadata": {},
     "output_type": "execute_result"
    }
   ],
   "source": [
    "sum(test)//len(test)"
   ]
  },
  {
   "cell_type": "code",
   "execution_count": null,
   "metadata": {},
   "outputs": [],
   "source": []
  }
 ],
 "metadata": {
  "kernelspec": {
   "display_name": "Python 3",
   "language": "python",
   "name": "python3"
  },
  "language_info": {
   "codemirror_mode": {
    "name": "ipython",
    "version": 3
   },
   "file_extension": ".py",
   "mimetype": "text/x-python",
   "name": "python",
   "nbconvert_exporter": "python",
   "pygments_lexer": "ipython3",
   "version": "3.8.2"
  }
 },
 "nbformat": 4,
 "nbformat_minor": 4
}
