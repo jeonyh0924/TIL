{
 "cells": [
  {
   "cell_type": "markdown",
   "metadata": {},
   "source": [
    "55 - 50 + 40 - 30 + 20\n",
    "\n",
    " \n",
    "\n",
    "위와 같이 입력을 받았을때 - 기준으로\n",
    "\n",
    " \n",
    "\n",
    "55 - (50 + 40) - (30 + 20)\n",
    "\n",
    " \n",
    "\n",
    "이렇게 괄호를 쳤을때 최솟값이 된다.\n",
    "\n",
    " \n",
    "\n",
    "그래서 입력을 받을때 - 기준으로 입력을 받아준다.\n",
    "\n",
    " \n",
    "\n",
    "위와 같이 입력을 받았을때\n",
    "\n",
    " \n",
    "\n",
    "['55', '50 + 40', '30 + 20']"
   ]
  },
  {
   "cell_type": "code",
   "execution_count": 636,
   "metadata": {},
   "outputs": [
    {
     "name": "stdout",
     "output_type": "stream",
     "text": [
      "55-50+40-30+20\n",
      "-85\n"
     ]
    }
   ],
   "source": [
    "def solution(s):\n",
    "    if ('-' not in s) and ('+' not in s):\n",
    "        return s\n",
    "    elif '-' not in s:\n",
    "        return eval(s)\n",
    "    answer = 0\n",
    "    \n",
    "\n",
    "    s=s.split('-')\n",
    "    \n",
    "    for index, value in enumerate(s):\n",
    "        if index ==0:\n",
    "            answer = 0\n",
    "            if '+' in value:\n",
    "                value = value.split('+')\n",
    "                for i in value:\n",
    "                    answer+=int(i)\n",
    "            else:\n",
    "                answer+=int(value)\n",
    "        else:\n",
    "            if '+' in value:\n",
    "                value = value.split('+')\n",
    "                for i in value:\n",
    "                    answer-=int(i)\n",
    "            else:\n",
    "                answer-=int(value)\n",
    "\n",
    "    return answer\n",
    "print(solution(input()))"
   ]
  },
  {
   "cell_type": "code",
   "execution_count": null,
   "metadata": {},
   "outputs": [],
   "source": []
  }
 ],
 "metadata": {
  "kernelspec": {
   "display_name": "Python 3",
   "language": "python",
   "name": "python3"
  },
  "language_info": {
   "codemirror_mode": {
    "name": "ipython",
    "version": 3
   },
   "file_extension": ".py",
   "mimetype": "text/x-python",
   "name": "python",
   "nbconvert_exporter": "python",
   "pygments_lexer": "ipython3",
   "version": "3.8.2"
  }
 },
 "nbformat": 4,
 "nbformat_minor": 4
}
